{
  "nbformat": 4,
  "nbformat_minor": 0,
  "metadata": {
    "colab": {
      "name": "Colas_1310.ipynb",
      "provenance": [],
      "collapsed_sections": []
    },
    "kernelspec": {
      "name": "python3",
      "display_name": "Python 3"
    },
    "language_info": {
      "name": "python"
    }
  },
  "cells": [
    {
      "cell_type": "code",
      "metadata": {
        "id": "wGTI5TgqJ-rk"
      },
      "source": [
        "class Queue:\n",
        "    def __init__( self ):\n",
        "        self.data = []\n",
        "\n",
        "    def is_empty( self ):\n",
        "        return len( self.data ) == 0\n",
        "\n",
        "    def lenght( self ):\n",
        "        return len( self.data )\n",
        "    \n",
        "    def enqueue( self, value ):\n",
        "        self.data.append( value )\n",
        "\n",
        "    def dequeue( self ):\n",
        "        return self.data.pop(0)\n",
        "\n",
        "    def to_string( self ):\n",
        "        for elem in self.data:\n",
        "            print(f\"| { elem }| <--\", end=\"\")\n",
        "        print(\"\")"
      ],
      "execution_count": 11,
      "outputs": []
    },
    {
      "cell_type": "code",
      "metadata": {
        "id": "Ab2AD1BRNrvv",
        "colab": {
          "base_uri": "https://localhost:8080/"
        },
        "outputId": "ecd99a25-674d-4dad-9f78-859c41f99d6e"
      },
      "source": [
        "cola = Queue()\n",
        "print(\"Esta vacio?: \", cola.is_empty() )\n",
        "print(\"Numero de elementos = \", cola.lenght() )\n",
        "cola.enqueue(10)\n",
        "cola.enqueue(20)\n",
        "cola.enqueue(30)\n",
        "print(\"Esta vacio?: \", cola.is_empty() )\n",
        "print(\"Numero de elementos = \", cola.lenght() )\n",
        "cola.enqueue(40)\n",
        "cola.enqueue(50)\n",
        "cola.enqueue(60)\n",
        "cola.to_string() \n",
        "siguiente = cola.dequeue()\n",
        "print(\"Atendiendo a: \", siguiente)\n",
        "cola.to_string"
      ],
      "execution_count": 12,
      "outputs": [
        {
          "output_type": "stream",
          "name": "stdout",
          "text": [
            "Esta vacio?:  True\n",
            "Numero de elementos =  0\n",
            "Esta vacio?:  False\n",
            "Numero de elementos =  3\n",
            "| 10| <--| 20| <--| 30| <--| 40| <--| 50| <--| 60| <--\n",
            "Atendiendo a:  10\n"
          ]
        },
        {
          "output_type": "execute_result",
          "data": {
            "text/plain": [
              "<bound method Queue.to_string of <__main__.Queue object at 0x7f88fb7e40d0>>"
            ]
          },
          "metadata": {},
          "execution_count": 12
        }
      ]
    },
    {
      "cell_type": "code",
      "metadata": {
        "id": "91Moj2ZHftxd"
      },
      "source": [
        "#Implementacion de la cola de prioridad acotada\n",
        "\n",
        "class BoundedPriorityQueue:\n",
        "    def __init__( self , niveles):\n",
        "        self.__data = [ Queue() for x in range(niveles) ]\n",
        "        #slef.__data = Array(niveles)\n",
        "        #self.__data.clear( Queue() )\n",
        "        self.__size = 0\n",
        "\n",
        "    def is_empty( self ):\n",
        "        return self.__size == 0\n",
        "\n",
        "    def length( self ):\n",
        "        return self.__size\n",
        "\n",
        "    def enqueue( self , prioridad , elem ):\n",
        "        if prioridad < len( self.__data ) \\\n",
        "            and prioridad >= 0:\n",
        "            self.__data[ prioridad ].enqueue( elem )\n",
        "            self.__size +=1\n",
        "\n",
        "    def dequeue( self ):\n",
        "        nivel = 0\n",
        "        while self.__data[nivel].is_empty() \\\n",
        "                and nivel < self.length():\n",
        "            nivel +=1\n",
        "\n",
        "        if nivel >= self.length():\n",
        "            print(\"Cola esta vacia\")\n",
        "        else:\n",
        "            return self.__data[ nivel ].dequeue()\n",
        "\n",
        "    def to_string( self ):\n",
        "        prioridad = 0\n",
        "        for cola in self.__data:\n",
        "            print(f\"Prioridad {prioridad} ->\", end=\"\")\n",
        "            if not cola.is_empty():\n",
        "                cola.to_string()\n",
        "                prioridad +=1"
      ],
      "execution_count": 13,
      "outputs": []
    },
    {
      "cell_type": "code",
      "metadata": {
        "colab": {
          "base_uri": "https://localhost:8080/"
        },
        "id": "X2bOF91Xf1mF",
        "outputId": "75620b84-2dbd-496d-a463-ed3bad4b0b30"
      },
      "source": [
        "cola = BoundedPriorityQueue(7)\n",
        "\n",
        "cola.enqueue(1,\"Personas con dificultad para moverse.\")\n",
        "cola.enqueue(2,\"Personas de la 3ra Edad.\")\n",
        "cola.enqueue(3,\"Mujeres embarazadas.\")\n",
        "cola.enqueue(4,\"Personas con problemas de salud.\")\n",
        "cola.enqueue(5,\"Adultos Normales\")\n",
        "cola.enqueue(6,\"Jovenes Adultos\")\n",
        "\n",
        "\n",
        "print(\"Número de elementos: \",cola.length())\n",
        "print(\"Esta vacío?: \",cola.is_empty())\n",
        "cola.to_string()\n",
        "print(cola.dequeue())\n",
        "cola.to_string()\n",
        "print(\"Número de elementos=: \",cola.length())"
      ],
      "execution_count": 14,
      "outputs": [
        {
          "output_type": "stream",
          "name": "stdout",
          "text": [
            "Número de elementos:  6\n",
            "Esta vacío?:  False\n",
            "Prioridad 0 ->Prioridad 0 ->| Personas con dificultad para moverse.| <--\n",
            "Prioridad 1 ->| Personas de la 3ra Edad.| <--\n",
            "Prioridad 2 ->| Mujeres embarazadas.| <--\n",
            "Prioridad 3 ->| Personas con problemas de salud.| <--\n",
            "Prioridad 4 ->| Adultos Normales| <--\n",
            "Prioridad 5 ->| Jovenes Adultos| <--\n",
            "Personas con dificultad para moverse.\n",
            "Prioridad 0 ->Prioridad 0 ->Prioridad 0 ->| Personas de la 3ra Edad.| <--\n",
            "Prioridad 1 ->| Mujeres embarazadas.| <--\n",
            "Prioridad 2 ->| Personas con problemas de salud.| <--\n",
            "Prioridad 3 ->| Adultos Normales| <--\n",
            "Prioridad 4 ->| Jovenes Adultos| <--\n",
            "Número de elementos=:  6\n"
          ]
        }
      ]
    },
    {
      "cell_type": "code",
      "metadata": {
        "id": "cIkbgdLdgNNU"
      },
      "source": [
        "#Implementacion de las colas de prioridad sin acotamientos\n",
        "\n",
        "class PriorityQueue:\n",
        "    def __init__( self ):\n",
        "        self.__data =[]\n",
        "        self.__size = 0\n",
        "\n",
        "    def is_empty( self ):\n",
        "        return self.__size == 0\n",
        "\n",
        "    def length( self ):\n",
        "        return self.__size\n",
        "\n",
        "    def enqueue(self , prioridad , elem ):\n",
        "        existe = False\n",
        "        indice = 0\n",
        "        for index in range(len(self.__data)):\n",
        "            if self.__data[index][ \"prioridad\" ] == prioridad:\n",
        "                existe = True\n",
        "                indice = index\n",
        "        \n",
        "        if existe:\n",
        "            self.__data[indice][\"cola\"].enqueue(elem)\n",
        "        else:\n",
        "            self.__data.append( {\"prioridad\":prioridad , \"cola\": Queue() } )\n",
        "            self.__data[-1][\"cola\"].enqueue(elem)\n",
        "    \n",
        "    def to_string( self ):\n",
        "        for cola in self.__data:\n",
        "            cola[\"cola\"].to_string()"
      ],
      "execution_count": 15,
      "outputs": []
    },
    {
      "cell_type": "code",
      "metadata": {
        "colab": {
          "base_uri": "https://localhost:8080/"
        },
        "id": "Q7q1Mv59gSWK",
        "outputId": "a0848662-7b01-4869-9ac5-ed087713a234"
      },
      "source": [
        "cp = PriorityQueue()\n",
        "cp.enqueue(1, \"Niñas\")\n",
        "cp.enqueue(2, \"Niños\")\n",
        "cp.to_string()"
      ],
      "execution_count": 16,
      "outputs": [
        {
          "output_type": "stream",
          "name": "stdout",
          "text": [
            "| Niñas| <--\n",
            "| Niños| <--\n"
          ]
        }
      ]
    }
  ]
}